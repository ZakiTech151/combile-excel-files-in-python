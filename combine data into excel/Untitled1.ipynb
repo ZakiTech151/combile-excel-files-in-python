{
 "cells": [
  {
   "cell_type": "code",
   "execution_count": 6,
   "id": "developmental-moscow",
   "metadata": {},
   "outputs": [
    {
     "name": "stderr",
     "output_type": "stream",
     "text": [
      "Exception in Tkinter callback\n",
      "Traceback (most recent call last):\n",
      "  File \"c:\\users\\friends\\appdata\\local\\programs\\python\\python39\\lib\\tkinter\\__init__.py\", line 1884, in __call__\n",
      "    return self.func(*args)\n",
      "  File \"<ipython-input-6-08d314eb57cd>\", line 22, in c_open_dir_old\n",
      "    files = [file for file in os.listdir(path) if not file.startswith('.')] # Ignore hidden files\n",
      "FileNotFoundError: [WinError 3] The system cannot find the path specified: ''\n"
     ]
    }
   ],
   "source": [
    "import os\n",
    "import pandas as pd\n",
    "from tkinter import *\n",
    "from tkinter import messagebox \n",
    "\n",
    "try:\n",
    "    import tkinter as tk\n",
    "    import tkinter.ttk as ttk\n",
    "    from tkinter import filedialog\n",
    "except ImportError:\n",
    "    import Tkinter as tk\n",
    "    import ttk\n",
    "    import tkFileDialog as filedialog\n",
    "from tkfilebrowser import askopendirname, askopenfilenames, asksaveasfilename\n",
    "\n",
    "\n",
    "root = tk.Tk()\n",
    "style = ttk.Style(root)\n",
    "style.theme_use(\"clam\")\n",
    "def c_open_dir_old():\n",
    "    path = filedialog.askdirectory(parent=root, initialdir='/tmp')\n",
    "    files = [file for file in os.listdir(path) if not file.startswith('.')] # Ignore hidden files\n",
    "\n",
    "    all_months_data = pd.DataFrame()\n",
    "\n",
    "    for file in files:\n",
    "        current_data = pd.read_csv(path+\"/\"+file)\n",
    "        all_months_data = pd.concat([all_months_data, current_data])\n",
    "\n",
    "    all_months_data.to_csv(\"all_combine_data.csv\", index=False)\n",
    "    messagebox.showinfo(\"Sucessfully\", \"Files is Combine\") \n",
    "    \n",
    "   \n",
    "    \n",
    "ttk.Button(root, text=\"Open folder\", command=c_open_dir_old).grid(row=2, column=0, padx=4, pady=4, sticky='ew')\n",
    "root.mainloop()"
   ]
  },
  {
   "cell_type": "code",
   "execution_count": null,
   "id": "living-sunrise",
   "metadata": {},
   "outputs": [],
   "source": []
  }
 ],
 "metadata": {
  "hide_input": false,
  "kernelspec": {
   "display_name": "Python 3",
   "language": "python",
   "name": "python3"
  },
  "language_info": {
   "codemirror_mode": {
    "name": "ipython",
    "version": 3
   },
   "file_extension": ".py",
   "mimetype": "text/x-python",
   "name": "python",
   "nbconvert_exporter": "python",
   "pygments_lexer": "ipython3",
   "version": "3.9.1"
  },
  "toc": {
   "base_numbering": 1,
   "nav_menu": {},
   "number_sections": true,
   "sideBar": true,
   "skip_h1_title": false,
   "title_cell": "Table of Contents",
   "title_sidebar": "Contents",
   "toc_cell": false,
   "toc_position": {},
   "toc_section_display": true,
   "toc_window_display": false
  },
  "varInspector": {
   "cols": {
    "lenName": 16,
    "lenType": 16,
    "lenVar": 40
   },
   "kernels_config": {
    "python": {
     "delete_cmd_postfix": "",
     "delete_cmd_prefix": "del ",
     "library": "var_list.py",
     "varRefreshCmd": "print(var_dic_list())"
    },
    "r": {
     "delete_cmd_postfix": ") ",
     "delete_cmd_prefix": "rm(",
     "library": "var_list.r",
     "varRefreshCmd": "cat(var_dic_list()) "
    }
   },
   "types_to_exclude": [
    "module",
    "function",
    "builtin_function_or_method",
    "instance",
    "_Feature"
   ],
   "window_display": false
  }
 },
 "nbformat": 4,
 "nbformat_minor": 5
}
