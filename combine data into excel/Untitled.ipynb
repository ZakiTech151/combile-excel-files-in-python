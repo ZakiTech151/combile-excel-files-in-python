{
 "cells": [
  {
   "cell_type": "code",
   "execution_count": 1,
   "id": "handy-rouge",
   "metadata": {},
   "outputs": [],
   "source": [
    "import os\n",
    "import pandas as pd"
   ]
  },
  {
   "cell_type": "code",
   "execution_count": 2,
   "id": "narrative-madness",
   "metadata": {},
   "outputs": [],
   "source": [
    "path = \"./Master Sales FY\"\n",
    "files = [file for file in os.listdir(path) if not file.startswith('.')] # Ignore hidden files\n",
    "\n",
    "all_months_data = pd.DataFrame()\n",
    "\n",
    "for file in files:\n",
    "    current_data = pd.read_csv(path+\"/\"+file)\n",
    "    all_months_data = pd.concat([all_months_data, current_data])\n",
    "    \n",
    "all_months_data.to_csv(\"all_data_copy1.csv\", index=False)"
   ]
  },
  {
   "cell_type": "code",
   "execution_count": 32,
   "id": "manual-wildlife",
   "metadata": {},
   "outputs": [],
   "source": [
    "\n",
    "# Python program to create \n",
    "# a file explorer in Tkinter\n",
    "  \n",
    "# import all components\n"
   ]
  },
  {
   "cell_type": "code",
   "execution_count": null,
   "id": "british-disco",
   "metadata": {},
   "outputs": [],
   "source": []
  },
  {
   "cell_type": "code",
   "execution_count": 41,
   "id": "photographic-deviation",
   "metadata": {},
   "outputs": [
    {
     "name": "stderr",
     "output_type": "stream",
     "text": [
      "Exception in Tkinter callback\n",
      "Traceback (most recent call last):\n",
      "  File \"c:\\users\\friends\\appdata\\local\\programs\\python\\python39\\lib\\tkinter\\__init__.py\", line 1884, in __call__\n",
      "    return self.func(*args)\n",
      "  File \"<ipython-input-41-8477ad9235ae>\", line 20, in c_open_dir_old\n",
      "    files = [file for file in os.listdir(path) if not file.startswith('.')] # Ignore hidden files\n",
      "FileNotFoundError: [WinError 3] The system cannot find the path specified: ''\n"
     ]
    }
   ],
   "source": [
    "import os\n",
    "import pandas as pd\n",
    "\n",
    "try:\n",
    "    import tkinter as tk\n",
    "    import tkinter.ttk as ttk\n",
    "    from tkinter import filedialog\n",
    "except ImportError:\n",
    "    import Tkinter as tk\n",
    "    import ttk\n",
    "    import tkFileDialog as filedialog\n",
    "from tkfilebrowser import askopendirname, askopenfilenames, asksaveasfilename\n",
    "\n",
    "\n",
    "root = tk.Tk()\n",
    "style = ttk.Style(root)\n",
    "style.theme_use(\"clam\")\n",
    "def c_open_dir_old():\n",
    "    path = filedialog.askdirectory(parent=root, initialdir='/tmp')\n",
    "    files = [file for file in os.listdir(path) if not file.startswith('.')] # Ignore hidden files\n",
    "\n",
    "    all_months_data = pd.DataFrame()\n",
    "\n",
    "    for file in files:\n",
    "        current_data = pd.read_csv(path+\"/\"+file)\n",
    "        all_months_data = pd.concat([all_months_data, current_data])\n",
    "\n",
    "    all_months_data.to_csv(\"all_data_copy1.csv\", index=False)\n",
    "    print(\"File is convert\")\n",
    "    \n",
    "   \n",
    "    \n",
    "ttk.Button(root, text=\"Open folder\", command=c_open_dir_old).grid(row=2, column=0, padx=4, pady=4, sticky='ew')\n",
    "root.mainloop()"
   ]
  },
  {
   "cell_type": "code",
   "execution_count": null,
   "id": "sexual-anderson",
   "metadata": {},
   "outputs": [],
   "source": []
  },
  {
   "cell_type": "code",
   "execution_count": 40,
   "id": "signed-neighborhood",
   "metadata": {},
   "outputs": [
    {
     "name": "stdout",
     "output_type": "stream",
     "text": [
      "C:/Users/friends/Desktop/files.csv\n"
     ]
    }
   ],
   "source": [
    "try:\n",
    "    import tkinter as tk\n",
    "    import tkinter.ttk as ttk\n",
    "    from tkinter import filedialog\n",
    "except ImportError:\n",
    "    import Tkinter as tk\n",
    "    import ttk\n",
    "    import tkFileDialog as filedialog\n",
    "from tkfilebrowser import askopendirname, askopenfilenames, asksaveasfilename\n",
    "\n",
    "\n",
    "root = tk.Tk()\n",
    "\n",
    "style = ttk.Style(root)\n",
    "style.theme_use(\"clam\")\n",
    "\n",
    "\n",
    "def c_open_file_old():\n",
    "    rep = filedialog.askopenfilenames(parent=root, initialdir='/', initialfile='tmp',\n",
    "                                      filetypes=[(\"PNG\", \"*.png\"), (\"JPEG\", \"*.jpg\"), (\"All files\", \"*\")])\n",
    "    print(rep)\n",
    "\n",
    "\n",
    "def c_open_dir_old():\n",
    "    rep = filedialog.askdirectory(parent=root, initialdir='/tmp')\n",
    "    print(rep)\n",
    "\n",
    "\n",
    "def c_save_old():\n",
    "    rep = filedialog.asksaveasfilename(parent=root, defaultextension=\".png\", initialdir='/tmp', initialfile='image.png',\n",
    "                                       filetypes=[(\"PNG\", \"*.png\"), (\"JPEG\", \"*.jpg\"), (\"All files\", \"*\")])\n",
    "    print(rep)\n",
    "\n",
    "\n",
    "def c_open_file():\n",
    "    rep = askopenfilenames(parent=root, initialdir='/', initialfile='tmp',\n",
    "                           filetypes=[(\"Pictures\", \"*.png|*.jpg|*.JPG\"), (\"All files\", \"*\")])\n",
    "    print(rep)\n",
    "\n",
    "\n",
    "def c_open_dir():\n",
    "    rep = askopendirname(parent=root, initialdir='/', initialfile='tmp')\n",
    "    print(rep)\n",
    "\n",
    "\n",
    "def c_save():\n",
    "    rep = asksaveasfilename(parent=root, defaultext=\".png\", initialdir='/tmp', initialfile='image.png',\n",
    "                            filetypes=[(\"Pictures\", \"*.png|*.jpg|*.JPG\"), (\"All files\", \"*\")])\n",
    "    print(rep)\n",
    "\n",
    "\n",
    "ttk.Label(root, text='Default dialogs').grid(row=0, column=0, padx=4, pady=4, sticky='ew')\n",
    "ttk.Label(root, text='tkfilebrowser dialogs').grid(row=0, column=1, padx=4, pady=4, sticky='ew')\n",
    "ttk.Button(root, text=\"Open files\", command=c_open_file_old).grid(row=1, column=0, padx=4, pady=4, sticky='ew')\n",
    "ttk.Button(root, text=\"Open folder\", command=c_open_dir_old).grid(row=2, column=0, padx=4, pady=4, sticky='ew')\n",
    "ttk.Button(root, text=\"Save file\", command=c_save_old).grid(row=3, column=0, padx=4, pady=4, sticky='ew')\n",
    "ttk.Button(root, text=\"Open files\", command=c_open_file).grid(row=1, column=1, padx=4, pady=4, sticky='ew')\n",
    "ttk.Button(root, text=\"Open folder\", command=c_open_dir).grid(row=2, column=1, padx=4, pady=4, sticky='ew')\n",
    "ttk.Button(root, text=\"Save file\", command=c_save).grid(row=3, column=1, padx=4, pady=4, sticky='ew')\n",
    "\n",
    "root.mainloop()"
   ]
  },
  {
   "cell_type": "code",
   "execution_count": 39,
   "id": "retired-newsletter",
   "metadata": {},
   "outputs": [],
   "source": [
    "\n",
    "# importing all files  from tkinter \n",
    "from tkinter import * \n",
    "from tkinter import ttk \n",
    "  \n",
    "# import only asksaveasfile from filedialog \n",
    "# which is used to save file in any extension \n",
    "from tkinter.filedialog import asksaveasfile \n",
    "  \n",
    "root = Tk() \n",
    "root.geometry('200x150') \n",
    "  \n",
    "# function to call when user press \n",
    "# the save button, a filedialog will \n",
    "# open and ask to save file \n",
    "def save(): \n",
    "    files = [('CSV', '*.CSV*')] \n",
    "    file = asksaveasfile(filetypes = files, defaultextension = files) \n",
    "  \n",
    "btn = ttk.Button(root, text = 'Save', command = lambda : save()) \n",
    "btn.pack(side = TOP, pady = 20) \n",
    "  \n",
    "mainloop() "
   ]
  },
  {
   "cell_type": "code",
   "execution_count": 44,
   "id": "colonial-contemporary",
   "metadata": {},
   "outputs": [],
   "source": [
    "from tkinter import *\n",
    "from tkinter import messagebox \n",
    "\n",
    "\n",
    "messagebox.showinfo(\"showinfo\", \"Information\") \n",
    "\n",
    "\n",
    "\n",
    "root.mainloop() \n"
   ]
  },
  {
   "cell_type": "code",
   "execution_count": null,
   "id": "unable-groove",
   "metadata": {},
   "outputs": [],
   "source": []
  }
 ],
 "metadata": {
  "hide_input": false,
  "kernelspec": {
   "display_name": "Python 3",
   "language": "python",
   "name": "python3"
  },
  "language_info": {
   "codemirror_mode": {
    "name": "ipython",
    "version": 3
   },
   "file_extension": ".py",
   "mimetype": "text/x-python",
   "name": "python",
   "nbconvert_exporter": "python",
   "pygments_lexer": "ipython3",
   "version": "3.9.1"
  },
  "toc": {
   "base_numbering": 1,
   "nav_menu": {},
   "number_sections": true,
   "sideBar": true,
   "skip_h1_title": false,
   "title_cell": "Table of Contents",
   "title_sidebar": "Contents",
   "toc_cell": false,
   "toc_position": {},
   "toc_section_display": true,
   "toc_window_display": false
  },
  "varInspector": {
   "cols": {
    "lenName": 16,
    "lenType": 16,
    "lenVar": 40
   },
   "kernels_config": {
    "python": {
     "delete_cmd_postfix": "",
     "delete_cmd_prefix": "del ",
     "library": "var_list.py",
     "varRefreshCmd": "print(var_dic_list())"
    },
    "r": {
     "delete_cmd_postfix": ") ",
     "delete_cmd_prefix": "rm(",
     "library": "var_list.r",
     "varRefreshCmd": "cat(var_dic_list()) "
    }
   },
   "types_to_exclude": [
    "module",
    "function",
    "builtin_function_or_method",
    "instance",
    "_Feature"
   ],
   "window_display": false
  }
 },
 "nbformat": 4,
 "nbformat_minor": 5
}
